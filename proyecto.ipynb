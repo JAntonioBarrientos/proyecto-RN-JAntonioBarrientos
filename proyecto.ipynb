{
 "cells": [
  {
   "cell_type": "markdown",
   "metadata": {},
   "source": [
    "# Proyecto. Predicción de precios de acciones."
   ]
  },
  {
   "cell_type": "markdown",
   "metadata": {
    "vscode": {
     "languageId": "plaintext"
    }
   },
   "source": [
    "## Descarga de datos\n",
    "Si aún no cuentas con los datos, puedes descargarlos con el siguiente código.\n",
    "Los datos deben estar en la carpeta `data`."
   ]
  },
  {
   "cell_type": "code",
   "execution_count": null,
   "metadata": {},
   "outputs": [],
   "source": [
    "import kagglehub\n",
    "\n",
    "# Download latest version\n",
    "path = kagglehub.dataset_download(\"paultimothymooney/stock-market-data\")\n",
    "\n",
    "print(\"Path to dataset files:\", path)"
   ]
  },
  {
   "cell_type": "markdown",
   "metadata": {},
   "source": [
    "Coloca los datos en la carpeta `data` y asegúrate de que la estructura de carpetas sea la siguiente:\n",
    "```terminal\n",
    "data\n",
    "└── stock_market_data\n",
    "    ├── forbes2000\n",
    "    │   ├── csv\n",
    "    │   └── json\n",
    "    ├── nasdaq\n",
    "    │   ├── csv\n",
    "    │   └── json\n",
    "    ├── nyse\n",
    "    │   ├── csv\n",
    "    │   └── json\n",
    "    └── sp500\n",
    "        ├── csv\n",
    "        └── json\n",
    "```\n",
    "\n"
   ]
  },
  {
   "cell_type": "code",
   "execution_count": 1,
   "metadata": {},
   "outputs": [
    {
     "name": "stdout",
     "output_type": "stream",
     "text": [
      "Número de Archivos CSV encontrados: 409\n",
      "         Date     Low    Open  Volume    High   Close  Adjusted Close\n",
      "0  02-12-2003   9.500   9.500  160000   9.625   9.625        7.794465\n",
      "1  03-12-2003   9.750   9.750  300000   9.750   9.750        7.895689\n",
      "2  04-12-2003  10.125  10.125   50000  10.125  10.125        8.199372\n",
      "3  05-12-2003  10.125  10.125       0  10.125  10.125        8.199372\n",
      "4  08-12-2003  10.500  10.500  954000  10.900  10.900        8.826980\n",
      "Columnas: ['Date', 'Low', 'Open', 'Volume', 'High', 'Close', 'Adjusted Close']\n"
     ]
    }
   ],
   "source": [
    "import pandas as pd\n",
    "import os\n",
    "\n",
    "# Ruta\n",
    "base_path = 'data/stock_market_data/sp500/csv'\n",
    "\n",
    "# Listar los archivos CSV disponibles en la carpeta\n",
    "csv_files = [f for f in os.listdir(base_path) if f.endswith('.csv')]\n",
    "print(\"Número de Archivos CSV encontrados:\", len(csv_files))\n",
    "\n",
    "# Por ejemplo, cargar el primer archivo CSV\n",
    "data_path = os.path.join(base_path, csv_files[0])\n",
    "df = pd.read_csv(data_path)\n",
    "\n",
    "# Mostrar las primeras filas para inspeccionar el contenido\n",
    "print(df.head())\n",
    "\n",
    "# Veamos las columnas disponibles:\n",
    "print(\"Columnas:\", df.columns.tolist())\n"
   ]
  },
  {
   "cell_type": "code",
   "execution_count": null,
   "metadata": {},
   "outputs": [
    {
     "name": "stdout",
     "output_type": "stream",
     "text": [
      "        Date     Low    Open  Volume    High   Close  Adjusted Close  Target\n",
      "0 2003-12-02   9.500   9.500  160000   9.625   9.625        7.794465   9.750\n",
      "1 2003-12-03   9.750   9.750  300000   9.750   9.750        7.895689  10.125\n",
      "2 2003-12-04  10.125  10.125   50000  10.125  10.125        8.199372  10.125\n",
      "3 2003-12-05  10.125  10.125       0  10.125  10.125        8.199372  10.900\n",
      "4 2003-12-08  10.500  10.500  954000  10.900  10.900        8.826980  11.065\n"
     ]
    }
   ],
   "source": [
    "# Convertir la columna 'Date' a tipo datetime indicando que el día es el primer elemento\n",
    "df['Date'] = pd.to_datetime(df['Date'], dayfirst=True)\n",
    "df = df.sort_values('Date')\n",
    "\n",
    "# Definir las features y el target\n",
    "features = ['Open', 'High', 'Low', 'Volume']\n",
    "target = 'Close'\n",
    "\n",
    "df['Target'] = df[target].shift(-1)\n",
    "\n",
    "df = df[:-1]\n",
    "\n",
    "print(df.head())\n"
   ]
  }
 ],
 "metadata": {
  "kernelspec": {
   "display_name": "venv",
   "language": "python",
   "name": "python3"
  },
  "language_info": {
   "codemirror_mode": {
    "name": "ipython",
    "version": 3
   },
   "file_extension": ".py",
   "mimetype": "text/x-python",
   "name": "python",
   "nbconvert_exporter": "python",
   "pygments_lexer": "ipython3",
   "version": "3.12.7"
  }
 },
 "nbformat": 4,
 "nbformat_minor": 2
}
