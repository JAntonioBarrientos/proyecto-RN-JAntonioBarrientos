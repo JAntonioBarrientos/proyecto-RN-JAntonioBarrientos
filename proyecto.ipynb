{
 "cells": [
  {
   "cell_type": "markdown",
   "metadata": {
    "vscode": {
     "languageId": "plaintext"
    }
   },
   "source": [
    "# Datos\n",
    "Si aún no cuentas con los datos, puedes descargarlos con el siguiente código.\n",
    "Los datos deben estar en la carpeta `data`."
   ]
  },
  {
   "cell_type": "code",
   "execution_count": 2,
   "metadata": {},
   "outputs": [
    {
     "name": "stdout",
     "output_type": "stream",
     "text": [
      "Path to dataset files: /home/antonio/.cache/kagglehub/datasets/paultimothymooney/stock-market-data/versions/74\n"
     ]
    }
   ],
   "source": [
    "import kagglehub\n",
    "\n",
    "# Download latest version\n",
    "path = kagglehub.dataset_download(\"paultimothymooney/stock-market-data\")\n",
    "\n",
    "print(\"Path to dataset files:\", path)"
   ]
  },
  {
   "cell_type": "markdown",
   "metadata": {},
   "source": [
    "Coloca los datos en la carpeta `data` y asegúrate de que la estructura de carpetas sea la siguiente:\n",
    "```terminal\n",
    "data\n",
    "└── stock_market_data\n",
    "    ├── forbes2000\n",
    "    │   ├── csv\n",
    "    │   └── json\n",
    "    ├── nasdaq\n",
    "    │   ├── csv\n",
    "    │   └── json\n",
    "    ├── nyse\n",
    "    │   ├── csv\n",
    "    │   └── json\n",
    "    └── sp500\n",
    "        ├── csv\n",
    "        └── json\n",
    "```\n",
    "\n"
   ]
  }
 ],
 "metadata": {
  "kernelspec": {
   "display_name": "venv",
   "language": "python",
   "name": "python3"
  },
  "language_info": {
   "codemirror_mode": {
    "name": "ipython",
    "version": 3
   },
   "file_extension": ".py",
   "mimetype": "text/x-python",
   "name": "python",
   "nbconvert_exporter": "python",
   "pygments_lexer": "ipython3",
   "version": "3.12.7"
  }
 },
 "nbformat": 4,
 "nbformat_minor": 2
}
